{
 "cells": [
  {
   "cell_type": "code",
   "execution_count": 1,
   "metadata": {},
   "outputs": [],
   "source": [
    "import ccxt\n",
    "import pandas as pd\n",
    "import numpy as np\n",
    "import datetime"
   ]
  },
  {
   "cell_type": "code",
   "execution_count": 2,
   "metadata": {},
   "outputs": [
    {
     "data": {
      "text/html": [
       "<div>\n",
       "<style scoped>\n",
       "    .dataframe tbody tr th:only-of-type {\n",
       "        vertical-align: middle;\n",
       "    }\n",
       "\n",
       "    .dataframe tbody tr th {\n",
       "        vertical-align: top;\n",
       "    }\n",
       "\n",
       "    .dataframe thead th {\n",
       "        text-align: right;\n",
       "    }\n",
       "</style>\n",
       "<table border=\"1\" class=\"dataframe\">\n",
       "  <thead>\n",
       "    <tr style=\"text-align: right;\">\n",
       "      <th></th>\n",
       "      <th>timestamp</th>\n",
       "      <th>Open</th>\n",
       "      <th>High</th>\n",
       "      <th>Low</th>\n",
       "      <th>Close</th>\n",
       "      <th>Volume</th>\n",
       "    </tr>\n",
       "    <tr>\n",
       "      <th>Datetime</th>\n",
       "      <th></th>\n",
       "      <th></th>\n",
       "      <th></th>\n",
       "      <th></th>\n",
       "      <th></th>\n",
       "      <th></th>\n",
       "    </tr>\n",
       "  </thead>\n",
       "  <tbody>\n",
       "    <tr>\n",
       "      <th>2024-01-01 08:00:00+08:00</th>\n",
       "      <td>1704067200000</td>\n",
       "      <td>42283.58</td>\n",
       "      <td>44184.10</td>\n",
       "      <td>42180.77</td>\n",
       "      <td>44179.55</td>\n",
       "      <td>27174.29903</td>\n",
       "    </tr>\n",
       "    <tr>\n",
       "      <th>2024-01-02 08:00:00+08:00</th>\n",
       "      <td>1704153600000</td>\n",
       "      <td>44179.55</td>\n",
       "      <td>45879.63</td>\n",
       "      <td>44148.34</td>\n",
       "      <td>44946.91</td>\n",
       "      <td>65146.40661</td>\n",
       "    </tr>\n",
       "    <tr>\n",
       "      <th>2024-01-03 08:00:00+08:00</th>\n",
       "      <td>1704240000000</td>\n",
       "      <td>44946.91</td>\n",
       "      <td>45500.00</td>\n",
       "      <td>40750.00</td>\n",
       "      <td>42845.23</td>\n",
       "      <td>81194.55173</td>\n",
       "    </tr>\n",
       "    <tr>\n",
       "      <th>2024-01-04 08:00:00+08:00</th>\n",
       "      <td>1704326400000</td>\n",
       "      <td>42845.23</td>\n",
       "      <td>44729.58</td>\n",
       "      <td>42613.77</td>\n",
       "      <td>44151.10</td>\n",
       "      <td>48038.06334</td>\n",
       "    </tr>\n",
       "    <tr>\n",
       "      <th>2024-01-05 08:00:00+08:00</th>\n",
       "      <td>1704412800000</td>\n",
       "      <td>44151.10</td>\n",
       "      <td>44357.46</td>\n",
       "      <td>42450.00</td>\n",
       "      <td>44145.11</td>\n",
       "      <td>48075.25327</td>\n",
       "    </tr>\n",
       "    <tr>\n",
       "      <th>...</th>\n",
       "      <td>...</td>\n",
       "      <td>...</td>\n",
       "      <td>...</td>\n",
       "      <td>...</td>\n",
       "      <td>...</td>\n",
       "      <td>...</td>\n",
       "    </tr>\n",
       "    <tr>\n",
       "      <th>2024-12-26 08:00:00+08:00</th>\n",
       "      <td>1735171200000</td>\n",
       "      <td>99429.61</td>\n",
       "      <td>99963.70</td>\n",
       "      <td>95199.14</td>\n",
       "      <td>95791.60</td>\n",
       "      <td>21192.36727</td>\n",
       "    </tr>\n",
       "    <tr>\n",
       "      <th>2024-12-27 08:00:00+08:00</th>\n",
       "      <td>1735257600000</td>\n",
       "      <td>95791.60</td>\n",
       "      <td>97544.58</td>\n",
       "      <td>93500.01</td>\n",
       "      <td>94299.03</td>\n",
       "      <td>26501.26429</td>\n",
       "    </tr>\n",
       "    <tr>\n",
       "      <th>2024-12-28 08:00:00+08:00</th>\n",
       "      <td>1735344000000</td>\n",
       "      <td>94299.03</td>\n",
       "      <td>95733.99</td>\n",
       "      <td>94135.66</td>\n",
       "      <td>95300.00</td>\n",
       "      <td>8385.89290</td>\n",
       "    </tr>\n",
       "    <tr>\n",
       "      <th>2024-12-29 08:00:00+08:00</th>\n",
       "      <td>1735430400000</td>\n",
       "      <td>95300.00</td>\n",
       "      <td>95340.00</td>\n",
       "      <td>93009.52</td>\n",
       "      <td>93738.20</td>\n",
       "      <td>13576.00578</td>\n",
       "    </tr>\n",
       "    <tr>\n",
       "      <th>2024-12-30 08:00:00+08:00</th>\n",
       "      <td>1735516800000</td>\n",
       "      <td>93738.19</td>\n",
       "      <td>95024.50</td>\n",
       "      <td>91530.45</td>\n",
       "      <td>92792.05</td>\n",
       "      <td>27619.42250</td>\n",
       "    </tr>\n",
       "  </tbody>\n",
       "</table>\n",
       "<p>365 rows × 6 columns</p>\n",
       "</div>"
      ],
      "text/plain": [
       "                               timestamp      Open      High       Low  \\\n",
       "Datetime                                                                 \n",
       "2024-01-01 08:00:00+08:00  1704067200000  42283.58  44184.10  42180.77   \n",
       "2024-01-02 08:00:00+08:00  1704153600000  44179.55  45879.63  44148.34   \n",
       "2024-01-03 08:00:00+08:00  1704240000000  44946.91  45500.00  40750.00   \n",
       "2024-01-04 08:00:00+08:00  1704326400000  42845.23  44729.58  42613.77   \n",
       "2024-01-05 08:00:00+08:00  1704412800000  44151.10  44357.46  42450.00   \n",
       "...                                  ...       ...       ...       ...   \n",
       "2024-12-26 08:00:00+08:00  1735171200000  99429.61  99963.70  95199.14   \n",
       "2024-12-27 08:00:00+08:00  1735257600000  95791.60  97544.58  93500.01   \n",
       "2024-12-28 08:00:00+08:00  1735344000000  94299.03  95733.99  94135.66   \n",
       "2024-12-29 08:00:00+08:00  1735430400000  95300.00  95340.00  93009.52   \n",
       "2024-12-30 08:00:00+08:00  1735516800000  93738.19  95024.50  91530.45   \n",
       "\n",
       "                              Close       Volume  \n",
       "Datetime                                          \n",
       "2024-01-01 08:00:00+08:00  44179.55  27174.29903  \n",
       "2024-01-02 08:00:00+08:00  44946.91  65146.40661  \n",
       "2024-01-03 08:00:00+08:00  42845.23  81194.55173  \n",
       "2024-01-04 08:00:00+08:00  44151.10  48038.06334  \n",
       "2024-01-05 08:00:00+08:00  44145.11  48075.25327  \n",
       "...                             ...          ...  \n",
       "2024-12-26 08:00:00+08:00  95791.60  21192.36727  \n",
       "2024-12-27 08:00:00+08:00  94299.03  26501.26429  \n",
       "2024-12-28 08:00:00+08:00  95300.00   8385.89290  \n",
       "2024-12-29 08:00:00+08:00  93738.20  13576.00578  \n",
       "2024-12-30 08:00:00+08:00  92792.05  27619.42250  \n",
       "\n",
       "[365 rows x 6 columns]"
      ]
     },
     "execution_count": 2,
     "metadata": {},
     "output_type": "execute_result"
    }
   ],
   "source": [
    "exchange = ccxt.binance()\n",
    "\n",
    "def fetchOHLCV(symbol, timeframe, since):\n",
    "\tdf = exchange.fetch_ohlcv(symbol=f'{symbol}', timeframe=timeframe, since=int(datetime.datetime.timestamp(since) * 1000), limit=365)\n",
    "\tdf = pd.DataFrame(df, columns=['timestamp', 'Open', 'High', 'Low', 'Close', 'Volume'])\n",
    "\tdf['Datetime'] = pd.to_datetime(df['timestamp'] * 1000 * 1000, utc=True).dt.tz_convert('Asia/Hong_Kong')\n",
    "\tdf = df.set_index('Datetime')\n",
    "\treturn df\n",
    "\n",
    "start = datetime.datetime.strptime('2024-01-01', '%Y-%m-%d')\n",
    "\n",
    "df = fetchOHLCV('BTC/USDT', '1d', start)\n",
    "df"
   ]
  },
  {
   "cell_type": "code",
   "execution_count": 3,
   "metadata": {},
   "outputs": [],
   "source": [
    "o = df['Open'].to_numpy()\n",
    "h = df['High'].to_numpy()\n",
    "l = df['Low'].to_numpy()\n",
    "c = df['Close'].to_numpy()"
   ]
  },
  {
   "cell_type": "code",
   "execution_count": 4,
   "metadata": {},
   "outputs": [
    {
     "data": {
      "text/html": [
       "<div>\n",
       "<style scoped>\n",
       "    .dataframe tbody tr th:only-of-type {\n",
       "        vertical-align: middle;\n",
       "    }\n",
       "\n",
       "    .dataframe tbody tr th {\n",
       "        vertical-align: top;\n",
       "    }\n",
       "\n",
       "    .dataframe thead th {\n",
       "        text-align: right;\n",
       "    }\n",
       "</style>\n",
       "<table border=\"1\" class=\"dataframe\">\n",
       "  <thead>\n",
       "    <tr style=\"text-align: right;\">\n",
       "      <th></th>\n",
       "      <th>entry_index</th>\n",
       "      <th>entry_price</th>\n",
       "      <th>entry_timestamp</th>\n",
       "      <th>exit_index</th>\n",
       "      <th>exit_price</th>\n",
       "      <th>exit_timestamp</th>\n",
       "      <th>percentage_change</th>\n",
       "    </tr>\n",
       "  </thead>\n",
       "  <tbody>\n",
       "    <tr>\n",
       "      <th>0</th>\n",
       "      <td>30</td>\n",
       "      <td>42941.10</td>\n",
       "      <td>2024-01-31 08:00:00+08:00</td>\n",
       "      <td>38</td>\n",
       "      <td>45517.5660</td>\n",
       "      <td>2024-02-08 08:00:00+08:00</td>\n",
       "      <td>6.0</td>\n",
       "    </tr>\n",
       "    <tr>\n",
       "      <th>1</th>\n",
       "      <td>40</td>\n",
       "      <td>47132.78</td>\n",
       "      <td>2024-02-10 08:00:00+08:00</td>\n",
       "      <td>42</td>\n",
       "      <td>49960.7468</td>\n",
       "      <td>2024-02-12 08:00:00+08:00</td>\n",
       "      <td>6.0</td>\n",
       "    </tr>\n",
       "    <tr>\n",
       "      <th>2</th>\n",
       "      <td>44</td>\n",
       "      <td>49699.60</td>\n",
       "      <td>2024-02-14 08:00:00+08:00</td>\n",
       "      <td>45</td>\n",
       "      <td>52681.5760</td>\n",
       "      <td>2024-02-15 08:00:00+08:00</td>\n",
       "      <td>6.0</td>\n",
       "    </tr>\n",
       "    <tr>\n",
       "      <th>3</th>\n",
       "      <td>46</td>\n",
       "      <td>51880.01</td>\n",
       "      <td>2024-02-16 08:00:00+08:00</td>\n",
       "      <td>57</td>\n",
       "      <td>54992.8106</td>\n",
       "      <td>2024-02-27 08:00:00+08:00</td>\n",
       "      <td>6.0</td>\n",
       "    </tr>\n",
       "    <tr>\n",
       "      <th>4</th>\n",
       "      <td>86</td>\n",
       "      <td>69987.99</td>\n",
       "      <td>2024-03-27 08:00:00+08:00</td>\n",
       "      <td>92</td>\n",
       "      <td>67188.4704</td>\n",
       "      <td>2024-04-02 08:00:00+08:00</td>\n",
       "      <td>-4.0</td>\n",
       "    </tr>\n",
       "    <tr>\n",
       "      <th>5</th>\n",
       "      <td>99</td>\n",
       "      <td>71620.00</td>\n",
       "      <td>2024-04-09 08:00:00+08:00</td>\n",
       "      <td>100</td>\n",
       "      <td>68755.2000</td>\n",
       "      <td>2024-04-10 08:00:00+08:00</td>\n",
       "      <td>-4.0</td>\n",
       "    </tr>\n",
       "    <tr>\n",
       "      <th>6</th>\n",
       "      <td>126</td>\n",
       "      <td>64012.00</td>\n",
       "      <td>2024-05-06 08:00:00+08:00</td>\n",
       "      <td>128</td>\n",
       "      <td>61451.5200</td>\n",
       "      <td>2024-05-08 08:00:00+08:00</td>\n",
       "      <td>-4.0</td>\n",
       "    </tr>\n",
       "    <tr>\n",
       "      <th>7</th>\n",
       "      <td>138</td>\n",
       "      <td>67024.00</td>\n",
       "      <td>2024-05-18 08:00:00+08:00</td>\n",
       "      <td>140</td>\n",
       "      <td>71045.4400</td>\n",
       "      <td>2024-05-20 08:00:00+08:00</td>\n",
       "      <td>6.0</td>\n",
       "    </tr>\n",
       "    <tr>\n",
       "      <th>8</th>\n",
       "      <td>157</td>\n",
       "      <td>71108.00</td>\n",
       "      <td>2024-06-06 08:00:00+08:00</td>\n",
       "      <td>162</td>\n",
       "      <td>68263.6800</td>\n",
       "      <td>2024-06-11 08:00:00+08:00</td>\n",
       "      <td>-4.0</td>\n",
       "    </tr>\n",
       "    <tr>\n",
       "      <th>9</th>\n",
       "      <td>197</td>\n",
       "      <td>64724.06</td>\n",
       "      <td>2024-07-16 08:00:00+08:00</td>\n",
       "      <td>208</td>\n",
       "      <td>68607.5036</td>\n",
       "      <td>2024-07-27 08:00:00+08:00</td>\n",
       "      <td>6.0</td>\n",
       "    </tr>\n",
       "    <tr>\n",
       "      <th>10</th>\n",
       "      <td>263</td>\n",
       "      <td>62948.00</td>\n",
       "      <td>2024-09-20 08:00:00+08:00</td>\n",
       "      <td>274</td>\n",
       "      <td>60430.0800</td>\n",
       "      <td>2024-10-01 08:00:00+08:00</td>\n",
       "      <td>-4.0</td>\n",
       "    </tr>\n",
       "    <tr>\n",
       "      <th>11</th>\n",
       "      <td>290</td>\n",
       "      <td>67620.00</td>\n",
       "      <td>2024-10-17 08:00:00+08:00</td>\n",
       "      <td>302</td>\n",
       "      <td>71677.2000</td>\n",
       "      <td>2024-10-29 08:00:00+08:00</td>\n",
       "      <td>6.0</td>\n",
       "    </tr>\n",
       "    <tr>\n",
       "      <th>12</th>\n",
       "      <td>303</td>\n",
       "      <td>72736.41</td>\n",
       "      <td>2024-10-30 08:00:00+08:00</td>\n",
       "      <td>304</td>\n",
       "      <td>69826.9536</td>\n",
       "      <td>2024-10-31 08:00:00+08:00</td>\n",
       "      <td>-4.0</td>\n",
       "    </tr>\n",
       "    <tr>\n",
       "      <th>13</th>\n",
       "      <td>312</td>\n",
       "      <td>75857.89</td>\n",
       "      <td>2024-11-08 08:00:00+08:00</td>\n",
       "      <td>314</td>\n",
       "      <td>80409.3634</td>\n",
       "      <td>2024-11-10 08:00:00+08:00</td>\n",
       "      <td>6.0</td>\n",
       "    </tr>\n",
       "    <tr>\n",
       "      <th>14</th>\n",
       "      <td>317</td>\n",
       "      <td>87952.00</td>\n",
       "      <td>2024-11-13 08:00:00+08:00</td>\n",
       "      <td>323</td>\n",
       "      <td>93229.1200</td>\n",
       "      <td>2024-11-19 08:00:00+08:00</td>\n",
       "      <td>6.0</td>\n",
       "    </tr>\n",
       "    <tr>\n",
       "      <th>15</th>\n",
       "      <td>325</td>\n",
       "      <td>94286.56</td>\n",
       "      <td>2024-11-21 08:00:00+08:00</td>\n",
       "      <td>339</td>\n",
       "      <td>90515.0976</td>\n",
       "      <td>2024-12-05 08:00:00+08:00</td>\n",
       "      <td>-4.0</td>\n",
       "    </tr>\n",
       "    <tr>\n",
       "      <th>16</th>\n",
       "      <td>351</td>\n",
       "      <td>106058.65</td>\n",
       "      <td>2024-12-17 08:00:00+08:00</td>\n",
       "      <td>352</td>\n",
       "      <td>101816.3040</td>\n",
       "      <td>2024-12-18 08:00:00+08:00</td>\n",
       "      <td>-4.0</td>\n",
       "    </tr>\n",
       "  </tbody>\n",
       "</table>\n",
       "</div>"
      ],
      "text/plain": [
       "    entry_index  entry_price           entry_timestamp  exit_index  \\\n",
       "0            30     42941.10 2024-01-31 08:00:00+08:00          38   \n",
       "1            40     47132.78 2024-02-10 08:00:00+08:00          42   \n",
       "2            44     49699.60 2024-02-14 08:00:00+08:00          45   \n",
       "3            46     51880.01 2024-02-16 08:00:00+08:00          57   \n",
       "4            86     69987.99 2024-03-27 08:00:00+08:00          92   \n",
       "5            99     71620.00 2024-04-09 08:00:00+08:00         100   \n",
       "6           126     64012.00 2024-05-06 08:00:00+08:00         128   \n",
       "7           138     67024.00 2024-05-18 08:00:00+08:00         140   \n",
       "8           157     71108.00 2024-06-06 08:00:00+08:00         162   \n",
       "9           197     64724.06 2024-07-16 08:00:00+08:00         208   \n",
       "10          263     62948.00 2024-09-20 08:00:00+08:00         274   \n",
       "11          290     67620.00 2024-10-17 08:00:00+08:00         302   \n",
       "12          303     72736.41 2024-10-30 08:00:00+08:00         304   \n",
       "13          312     75857.89 2024-11-08 08:00:00+08:00         314   \n",
       "14          317     87952.00 2024-11-13 08:00:00+08:00         323   \n",
       "15          325     94286.56 2024-11-21 08:00:00+08:00         339   \n",
       "16          351    106058.65 2024-12-17 08:00:00+08:00         352   \n",
       "\n",
       "     exit_price            exit_timestamp  percentage_change  \n",
       "0    45517.5660 2024-02-08 08:00:00+08:00                6.0  \n",
       "1    49960.7468 2024-02-12 08:00:00+08:00                6.0  \n",
       "2    52681.5760 2024-02-15 08:00:00+08:00                6.0  \n",
       "3    54992.8106 2024-02-27 08:00:00+08:00                6.0  \n",
       "4    67188.4704 2024-04-02 08:00:00+08:00               -4.0  \n",
       "5    68755.2000 2024-04-10 08:00:00+08:00               -4.0  \n",
       "6    61451.5200 2024-05-08 08:00:00+08:00               -4.0  \n",
       "7    71045.4400 2024-05-20 08:00:00+08:00                6.0  \n",
       "8    68263.6800 2024-06-11 08:00:00+08:00               -4.0  \n",
       "9    68607.5036 2024-07-27 08:00:00+08:00                6.0  \n",
       "10   60430.0800 2024-10-01 08:00:00+08:00               -4.0  \n",
       "11   71677.2000 2024-10-29 08:00:00+08:00                6.0  \n",
       "12   69826.9536 2024-10-31 08:00:00+08:00               -4.0  \n",
       "13   80409.3634 2024-11-10 08:00:00+08:00                6.0  \n",
       "14   93229.1200 2024-11-19 08:00:00+08:00                6.0  \n",
       "15   90515.0976 2024-12-05 08:00:00+08:00               -4.0  \n",
       "16  101816.3040 2024-12-18 08:00:00+08:00               -4.0  "
      ]
     },
     "execution_count": 4,
     "metadata": {},
     "output_type": "execute_result"
    }
   ],
   "source": [
    "from michaelHarris import MichaelHarris\n",
    "\n",
    "bt = MichaelHarris(4, 0.06, 0.04)\n",
    "for i in range(len(h)):\n",
    "    bt.update(i, df.index, o, h, l, c)\n",
    "\n",
    "pd.DataFrame(bt.trading_records)"
   ]
  },
  {
   "cell_type": "code",
   "execution_count": 5,
   "metadata": {},
   "outputs": [
    {
     "data": {
      "application/vnd.plotly.v1+json": {
       "config": {
        "plotlyServerURL": "https://plot.ly"
       },
       "data": [
        {
         "close": {
          "bdata": "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",
          "dtype": "f8"
         },
         "high": {
          "bdata": "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",
          "dtype": "f8"
         },
         "low": {
          "bdata": "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",
          "dtype": "f8"
         },
         "name": "Candlestick",
         "open": {
          "bdata": "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",
          "dtype": "f8"
         },
         "type": "candlestick",
         "x": [
          "2024-01-01T08:00:00+08:00",
          "2024-01-02T08:00:00+08:00",
          "2024-01-03T08:00:00+08:00",
          "2024-01-04T08:00:00+08:00",
          "2024-01-05T08:00:00+08:00",
          "2024-01-06T08:00:00+08:00",
          "2024-01-07T08:00:00+08:00",
          "2024-01-08T08:00:00+08:00",
          "2024-01-09T08:00:00+08:00",
          "2024-01-10T08:00:00+08:00",
          "2024-01-11T08:00:00+08:00",
          "2024-01-12T08:00:00+08:00",
          "2024-01-13T08:00:00+08:00",
          "2024-01-14T08:00:00+08:00",
          "2024-01-15T08:00:00+08:00",
          "2024-01-16T08:00:00+08:00",
          "2024-01-17T08:00:00+08:00",
          "2024-01-18T08:00:00+08:00",
          "2024-01-19T08:00:00+08:00",
          "2024-01-20T08:00:00+08:00",
          "2024-01-21T08:00:00+08:00",
          "2024-01-22T08:00:00+08:00",
          "2024-01-23T08:00:00+08:00",
          "2024-01-24T08:00:00+08:00",
          "2024-01-25T08:00:00+08:00",
          "2024-01-26T08:00:00+08:00",
          "2024-01-27T08:00:00+08:00",
          "2024-01-28T08:00:00+08:00",
          "2024-01-29T08:00:00+08:00",
          "2024-01-30T08:00:00+08:00",
          "2024-01-31T08:00:00+08:00",
          "2024-02-01T08:00:00+08:00",
          "2024-02-02T08:00:00+08:00",
          "2024-02-03T08:00:00+08:00",
          "2024-02-04T08:00:00+08:00",
          "2024-02-05T08:00:00+08:00",
          "2024-02-06T08:00:00+08:00",
          "2024-02-07T08:00:00+08:00",
          "2024-02-08T08:00:00+08:00",
          "2024-02-09T08:00:00+08:00",
          "2024-02-10T08:00:00+08:00",
          "2024-02-11T08:00:00+08:00",
          "2024-02-12T08:00:00+08:00",
          "2024-02-13T08:00:00+08:00",
          "2024-02-14T08:00:00+08:00",
          "2024-02-15T08:00:00+08:00",
          "2024-02-16T08:00:00+08:00",
          "2024-02-17T08:00:00+08:00",
          "2024-02-18T08:00:00+08:00",
          "2024-02-19T08:00:00+08:00",
          "2024-02-20T08:00:00+08:00",
          "2024-02-21T08:00:00+08:00",
          "2024-02-22T08:00:00+08:00",
          "2024-02-23T08:00:00+08:00",
          "2024-02-24T08:00:00+08:00",
          "2024-02-25T08:00:00+08:00",
          "2024-02-26T08:00:00+08:00",
          "2024-02-27T08:00:00+08:00",
          "2024-02-28T08:00:00+08:00",
          "2024-02-29T08:00:00+08:00",
          "2024-03-01T08:00:00+08:00",
          "2024-03-02T08:00:00+08:00",
          "2024-03-03T08:00:00+08:00",
          "2024-03-04T08:00:00+08:00",
          "2024-03-05T08:00:00+08:00",
          "2024-03-06T08:00:00+08:00",
          "2024-03-07T08:00:00+08:00",
          "2024-03-08T08:00:00+08:00",
          "2024-03-09T08:00:00+08:00",
          "2024-03-10T08:00:00+08:00",
          "2024-03-11T08:00:00+08:00",
          "2024-03-12T08:00:00+08:00",
          "2024-03-13T08:00:00+08:00",
          "2024-03-14T08:00:00+08:00",
          "2024-03-15T08:00:00+08:00",
          "2024-03-16T08:00:00+08:00",
          "2024-03-17T08:00:00+08:00",
          "2024-03-18T08:00:00+08:00",
          "2024-03-19T08:00:00+08:00",
          "2024-03-20T08:00:00+08:00",
          "2024-03-21T08:00:00+08:00",
          "2024-03-22T08:00:00+08:00",
          "2024-03-23T08:00:00+08:00",
          "2024-03-24T08:00:00+08:00",
          "2024-03-25T08:00:00+08:00",
          "2024-03-26T08:00:00+08:00",
          "2024-03-27T08:00:00+08:00",
          "2024-03-28T08:00:00+08:00",
          "2024-03-29T08:00:00+08:00",
          "2024-03-30T08:00:00+08:00",
          "2024-03-31T08:00:00+08:00",
          "2024-04-01T08:00:00+08:00",
          "2024-04-02T08:00:00+08:00",
          "2024-04-03T08:00:00+08:00",
          "2024-04-04T08:00:00+08:00",
          "2024-04-05T08:00:00+08:00",
          "2024-04-06T08:00:00+08:00",
          "2024-04-07T08:00:00+08:00",
          "2024-04-08T08:00:00+08:00",
          "2024-04-09T08:00:00+08:00",
          "2024-04-10T08:00:00+08:00",
          "2024-04-11T08:00:00+08:00",
          "2024-04-12T08:00:00+08:00",
          "2024-04-13T08:00:00+08:00",
          "2024-04-14T08:00:00+08:00",
          "2024-04-15T08:00:00+08:00",
          "2024-04-16T08:00:00+08:00",
          "2024-04-17T08:00:00+08:00",
          "2024-04-18T08:00:00+08:00",
          "2024-04-19T08:00:00+08:00",
          "2024-04-20T08:00:00+08:00",
          "2024-04-21T08:00:00+08:00",
          "2024-04-22T08:00:00+08:00",
          "2024-04-23T08:00:00+08:00",
          "2024-04-24T08:00:00+08:00",
          "2024-04-25T08:00:00+08:00",
          "2024-04-26T08:00:00+08:00",
          "2024-04-27T08:00:00+08:00",
          "2024-04-28T08:00:00+08:00",
          "2024-04-29T08:00:00+08:00",
          "2024-04-30T08:00:00+08:00",
          "2024-05-01T08:00:00+08:00",
          "2024-05-02T08:00:00+08:00",
          "2024-05-03T08:00:00+08:00",
          "2024-05-04T08:00:00+08:00",
          "2024-05-05T08:00:00+08:00",
          "2024-05-06T08:00:00+08:00",
          "2024-05-07T08:00:00+08:00",
          "2024-05-08T08:00:00+08:00",
          "2024-05-09T08:00:00+08:00",
          "2024-05-10T08:00:00+08:00",
          "2024-05-11T08:00:00+08:00",
          "2024-05-12T08:00:00+08:00",
          "2024-05-13T08:00:00+08:00",
          "2024-05-14T08:00:00+08:00",
          "2024-05-15T08:00:00+08:00",
          "2024-05-16T08:00:00+08:00",
          "2024-05-17T08:00:00+08:00",
          "2024-05-18T08:00:00+08:00",
          "2024-05-19T08:00:00+08:00",
          "2024-05-20T08:00:00+08:00",
          "2024-05-21T08:00:00+08:00",
          "2024-05-22T08:00:00+08:00",
          "2024-05-23T08:00:00+08:00",
          "2024-05-24T08:00:00+08:00",
          "2024-05-25T08:00:00+08:00",
          "2024-05-26T08:00:00+08:00",
          "2024-05-27T08:00:00+08:00",
          "2024-05-28T08:00:00+08:00",
          "2024-05-29T08:00:00+08:00",
          "2024-05-30T08:00:00+08:00",
          "2024-05-31T08:00:00+08:00",
          "2024-06-01T08:00:00+08:00",
          "2024-06-02T08:00:00+08:00",
          "2024-06-03T08:00:00+08:00",
          "2024-06-04T08:00:00+08:00",
          "2024-06-05T08:00:00+08:00",
          "2024-06-06T08:00:00+08:00",
          "2024-06-07T08:00:00+08:00",
          "2024-06-08T08:00:00+08:00",
          "2024-06-09T08:00:00+08:00",
          "2024-06-10T08:00:00+08:00",
          "2024-06-11T08:00:00+08:00",
          "2024-06-12T08:00:00+08:00",
          "2024-06-13T08:00:00+08:00",
          "2024-06-14T08:00:00+08:00",
          "2024-06-15T08:00:00+08:00",
          "2024-06-16T08:00:00+08:00",
          "2024-06-17T08:00:00+08:00",
          "2024-06-18T08:00:00+08:00",
          "2024-06-19T08:00:00+08:00",
          "2024-06-20T08:00:00+08:00",
          "2024-06-21T08:00:00+08:00",
          "2024-06-22T08:00:00+08:00",
          "2024-06-23T08:00:00+08:00",
          "2024-06-24T08:00:00+08:00",
          "2024-06-25T08:00:00+08:00",
          "2024-06-26T08:00:00+08:00",
          "2024-06-27T08:00:00+08:00",
          "2024-06-28T08:00:00+08:00",
          "2024-06-29T08:00:00+08:00",
          "2024-06-30T08:00:00+08:00",
          "2024-07-01T08:00:00+08:00",
          "2024-07-02T08:00:00+08:00",
          "2024-07-03T08:00:00+08:00",
          "2024-07-04T08:00:00+08:00",
          "2024-07-05T08:00:00+08:00",
          "2024-07-06T08:00:00+08:00",
          "2024-07-07T08:00:00+08:00",
          "2024-07-08T08:00:00+08:00",
          "2024-07-09T08:00:00+08:00",
          "2024-07-10T08:00:00+08:00",
          "2024-07-11T08:00:00+08:00",
          "2024-07-12T08:00:00+08:00",
          "2024-07-13T08:00:00+08:00",
          "2024-07-14T08:00:00+08:00",
          "2024-07-15T08:00:00+08:00",
          "2024-07-16T08:00:00+08:00",
          "2024-07-17T08:00:00+08:00",
          "2024-07-18T08:00:00+08:00",
          "2024-07-19T08:00:00+08:00",
          "2024-07-20T08:00:00+08:00",
          "2024-07-21T08:00:00+08:00",
          "2024-07-22T08:00:00+08:00",
          "2024-07-23T08:00:00+08:00",
          "2024-07-24T08:00:00+08:00",
          "2024-07-25T08:00:00+08:00",
          "2024-07-26T08:00:00+08:00",
          "2024-07-27T08:00:00+08:00",
          "2024-07-28T08:00:00+08:00",
          "2024-07-29T08:00:00+08:00",
          "2024-07-30T08:00:00+08:00",
          "2024-07-31T08:00:00+08:00",
          "2024-08-01T08:00:00+08:00",
          "2024-08-02T08:00:00+08:00",
          "2024-08-03T08:00:00+08:00",
          "2024-08-04T08:00:00+08:00",
          "2024-08-05T08:00:00+08:00",
          "2024-08-06T08:00:00+08:00",
          "2024-08-07T08:00:00+08:00",
          "2024-08-08T08:00:00+08:00",
          "2024-08-09T08:00:00+08:00",
          "2024-08-10T08:00:00+08:00",
          "2024-08-11T08:00:00+08:00",
          "2024-08-12T08:00:00+08:00",
          "2024-08-13T08:00:00+08:00",
          "2024-08-14T08:00:00+08:00",
          "2024-08-15T08:00:00+08:00",
          "2024-08-16T08:00:00+08:00",
          "2024-08-17T08:00:00+08:00",
          "2024-08-18T08:00:00+08:00",
          "2024-08-19T08:00:00+08:00",
          "2024-08-20T08:00:00+08:00",
          "2024-08-21T08:00:00+08:00",
          "2024-08-22T08:00:00+08:00",
          "2024-08-23T08:00:00+08:00",
          "2024-08-24T08:00:00+08:00",
          "2024-08-25T08:00:00+08:00",
          "2024-08-26T08:00:00+08:00",
          "2024-08-27T08:00:00+08:00",
          "2024-08-28T08:00:00+08:00",
          "2024-08-29T08:00:00+08:00",
          "2024-08-30T08:00:00+08:00",
          "2024-08-31T08:00:00+08:00",
          "2024-09-01T08:00:00+08:00",
          "2024-09-02T08:00:00+08:00",
          "2024-09-03T08:00:00+08:00",
          "2024-09-04T08:00:00+08:00",
          "2024-09-05T08:00:00+08:00",
          "2024-09-06T08:00:00+08:00",
          "2024-09-07T08:00:00+08:00",
          "2024-09-08T08:00:00+08:00",
          "2024-09-09T08:00:00+08:00",
          "2024-09-10T08:00:00+08:00",
          "2024-09-11T08:00:00+08:00",
          "2024-09-12T08:00:00+08:00",
          "2024-09-13T08:00:00+08:00",
          "2024-09-14T08:00:00+08:00",
          "2024-09-15T08:00:00+08:00",
          "2024-09-16T08:00:00+08:00",
          "2024-09-17T08:00:00+08:00",
          "2024-09-18T08:00:00+08:00",
          "2024-09-19T08:00:00+08:00",
          "2024-09-20T08:00:00+08:00",
          "2024-09-21T08:00:00+08:00",
          "2024-09-22T08:00:00+08:00",
          "2024-09-23T08:00:00+08:00",
          "2024-09-24T08:00:00+08:00",
          "2024-09-25T08:00:00+08:00",
          "2024-09-26T08:00:00+08:00",
          "2024-09-27T08:00:00+08:00",
          "2024-09-28T08:00:00+08:00",
          "2024-09-29T08:00:00+08:00",
          "2024-09-30T08:00:00+08:00",
          "2024-10-01T08:00:00+08:00",
          "2024-10-02T08:00:00+08:00",
          "2024-10-03T08:00:00+08:00",
          "2024-10-04T08:00:00+08:00",
          "2024-10-05T08:00:00+08:00",
          "2024-10-06T08:00:00+08:00",
          "2024-10-07T08:00:00+08:00",
          "2024-10-08T08:00:00+08:00",
          "2024-10-09T08:00:00+08:00",
          "2024-10-10T08:00:00+08:00",
          "2024-10-11T08:00:00+08:00",
          "2024-10-12T08:00:00+08:00",
          "2024-10-13T08:00:00+08:00",
          "2024-10-14T08:00:00+08:00",
          "2024-10-15T08:00:00+08:00",
          "2024-10-16T08:00:00+08:00",
          "2024-10-17T08:00:00+08:00",
          "2024-10-18T08:00:00+08:00",
          "2024-10-19T08:00:00+08:00",
          "2024-10-20T08:00:00+08:00",
          "2024-10-21T08:00:00+08:00",
          "2024-10-22T08:00:00+08:00",
          "2024-10-23T08:00:00+08:00",
          "2024-10-24T08:00:00+08:00",
          "2024-10-25T08:00:00+08:00",
          "2024-10-26T08:00:00+08:00",
          "2024-10-27T08:00:00+08:00",
          "2024-10-28T08:00:00+08:00",
          "2024-10-29T08:00:00+08:00",
          "2024-10-30T08:00:00+08:00",
          "2024-10-31T08:00:00+08:00",
          "2024-11-01T08:00:00+08:00",
          "2024-11-02T08:00:00+08:00",
          "2024-11-03T08:00:00+08:00",
          "2024-11-04T08:00:00+08:00",
          "2024-11-05T08:00:00+08:00",
          "2024-11-06T08:00:00+08:00",
          "2024-11-07T08:00:00+08:00",
          "2024-11-08T08:00:00+08:00",
          "2024-11-09T08:00:00+08:00",
          "2024-11-10T08:00:00+08:00",
          "2024-11-11T08:00:00+08:00",
          "2024-11-12T08:00:00+08:00",
          "2024-11-13T08:00:00+08:00",
          "2024-11-14T08:00:00+08:00",
          "2024-11-15T08:00:00+08:00",
          "2024-11-16T08:00:00+08:00",
          "2024-11-17T08:00:00+08:00",
          "2024-11-18T08:00:00+08:00",
          "2024-11-19T08:00:00+08:00",
          "2024-11-20T08:00:00+08:00",
          "2024-11-21T08:00:00+08:00",
          "2024-11-22T08:00:00+08:00",
          "2024-11-23T08:00:00+08:00",
          "2024-11-24T08:00:00+08:00",
          "2024-11-25T08:00:00+08:00",
          "2024-11-26T08:00:00+08:00",
          "2024-11-27T08:00:00+08:00",
          "2024-11-28T08:00:00+08:00",
          "2024-11-29T08:00:00+08:00",
          "2024-11-30T08:00:00+08:00",
          "2024-12-01T08:00:00+08:00",
          "2024-12-02T08:00:00+08:00",
          "2024-12-03T08:00:00+08:00",
          "2024-12-04T08:00:00+08:00",
          "2024-12-05T08:00:00+08:00",
          "2024-12-06T08:00:00+08:00",
          "2024-12-07T08:00:00+08:00",
          "2024-12-08T08:00:00+08:00",
          "2024-12-09T08:00:00+08:00",
          "2024-12-10T08:00:00+08:00",
          "2024-12-11T08:00:00+08:00",
          "2024-12-12T08:00:00+08:00",
          "2024-12-13T08:00:00+08:00",
          "2024-12-14T08:00:00+08:00",
          "2024-12-15T08:00:00+08:00",
          "2024-12-16T08:00:00+08:00",
          "2024-12-17T08:00:00+08:00",
          "2024-12-18T08:00:00+08:00",
          "2024-12-19T08:00:00+08:00",
          "2024-12-20T08:00:00+08:00",
          "2024-12-21T08:00:00+08:00",
          "2024-12-22T08:00:00+08:00",
          "2024-12-23T08:00:00+08:00",
          "2024-12-24T08:00:00+08:00",
          "2024-12-25T08:00:00+08:00",
          "2024-12-26T08:00:00+08:00",
          "2024-12-27T08:00:00+08:00",
          "2024-12-28T08:00:00+08:00",
          "2024-12-29T08:00:00+08:00",
          "2024-12-30T08:00:00+08:00"
         ],
         "xaxis": "x",
         "yaxis": "y"
        },
        {
         "marker": {
          "color": "green",
          "size": 10,
          "symbol": "triangle-up"
         },
         "mode": "markers",
         "name": "Buy Signal",
         "type": "scatter",
         "x": [
          "2024-01-31T08:00:00+08:00",
          "2024-02-10T08:00:00+08:00",
          "2024-02-14T08:00:00+08:00",
          "2024-02-16T08:00:00+08:00",
          "2024-03-27T08:00:00+08:00",
          "2024-04-09T08:00:00+08:00",
          "2024-05-06T08:00:00+08:00",
          "2024-05-18T08:00:00+08:00",
          "2024-06-06T08:00:00+08:00",
          "2024-07-16T08:00:00+08:00",
          "2024-09-20T08:00:00+08:00",
          "2024-10-17T08:00:00+08:00",
          "2024-10-30T08:00:00+08:00",
          "2024-11-08T08:00:00+08:00",
          "2024-11-13T08:00:00+08:00",
          "2024-11-21T08:00:00+08:00",
          "2024-12-17T08:00:00+08:00"
         ],
         "xaxis": "x",
         "y": {
          "bdata": "4XoUrt/e4kDTTWIQcLbkQK5H4Xo01+VANl66SYDM5kAyCKwcpsHuQAAAAABAee9AmpmZmVkh7EAzMzMzM3TtQGdmZmamP+9Ac2iR7XRx7EBnZmZmpqnrQAAAAABAt+1AVeOlm9j270AOLbKdAavwQM3MzMxMU/NAObTIdp639ED2KFyPzE33QA==",
          "dtype": "f8"
         },
         "yaxis": "y"
        },
        {
         "marker": {
          "color": "red",
          "size": 10,
          "symbol": "triangle-down"
         },
         "mode": "markers",
         "name": "Sell Signal",
         "type": "scatter",
         "x": [
          "2024-02-08T08:00:00+08:00",
          "2024-02-12T08:00:00+08:00",
          "2024-02-15T08:00:00+08:00",
          "2024-02-27T08:00:00+08:00",
          "2024-04-02T08:00:00+08:00",
          "2024-04-10T08:00:00+08:00",
          "2024-05-08T08:00:00+08:00",
          "2024-05-20T08:00:00+08:00",
          "2024-06-11T08:00:00+08:00",
          "2024-07-27T08:00:00+08:00",
          "2024-10-01T08:00:00+08:00",
          "2024-10-29T08:00:00+08:00",
          "2024-10-31T08:00:00+08:00",
          "2024-11-10T08:00:00+08:00",
          "2024-11-19T08:00:00+08:00",
          "2024-12-05T08:00:00+08:00",
          "2024-12-18T08:00:00+08:00"
         ],
         "xaxis": "x",
         "y": {
          "bdata": "Njy9Uqpy6EDLbJBJmtXqQAy1pnm3S+xAzfPg7oKJ7UAo9zsUNQvyQFK4HoXrdvJAbxKDwMqA8EC1yHa+XxTzQOOlm8QgVfJAaFw4EMRs8kAhsHJokTrwQIXrUbjOP/NAiOEjYprA8kCVK7zLJJj1QJluEoOACflAjh6/t+lO+EAWak3z3lf7QA==",
          "dtype": "f8"
         },
         "yaxis": "y"
        },
        {
         "line": {
          "color": "blue"
         },
         "mode": "lines",
         "name": "Equity Curve (%)",
         "type": "scatter",
         "x": [
          "2024-01-01T08:00:00+08:00",
          "2024-01-02T08:00:00+08:00",
          "2024-01-03T08:00:00+08:00",
          "2024-01-04T08:00:00+08:00",
          "2024-01-05T08:00:00+08:00",
          "2024-01-06T08:00:00+08:00",
          "2024-01-07T08:00:00+08:00",
          "2024-01-08T08:00:00+08:00",
          "2024-01-09T08:00:00+08:00",
          "2024-01-10T08:00:00+08:00",
          "2024-01-11T08:00:00+08:00",
          "2024-01-12T08:00:00+08:00",
          "2024-01-13T08:00:00+08:00",
          "2024-01-14T08:00:00+08:00",
          "2024-01-15T08:00:00+08:00",
          "2024-01-16T08:00:00+08:00",
          "2024-01-17T08:00:00+08:00",
          "2024-01-18T08:00:00+08:00",
          "2024-01-19T08:00:00+08:00",
          "2024-01-20T08:00:00+08:00",
          "2024-01-21T08:00:00+08:00",
          "2024-01-22T08:00:00+08:00",
          "2024-01-23T08:00:00+08:00",
          "2024-01-24T08:00:00+08:00",
          "2024-01-25T08:00:00+08:00",
          "2024-01-26T08:00:00+08:00",
          "2024-01-27T08:00:00+08:00",
          "2024-01-28T08:00:00+08:00",
          "2024-01-29T08:00:00+08:00",
          "2024-01-30T08:00:00+08:00",
          "2024-01-31T08:00:00+08:00",
          "2024-02-01T08:00:00+08:00",
          "2024-02-02T08:00:00+08:00",
          "2024-02-03T08:00:00+08:00",
          "2024-02-04T08:00:00+08:00",
          "2024-02-05T08:00:00+08:00",
          "2024-02-06T08:00:00+08:00",
          "2024-02-07T08:00:00+08:00",
          "2024-02-08T08:00:00+08:00",
          "2024-02-09T08:00:00+08:00",
          "2024-02-10T08:00:00+08:00",
          "2024-02-11T08:00:00+08:00",
          "2024-02-12T08:00:00+08:00",
          "2024-02-13T08:00:00+08:00",
          "2024-02-14T08:00:00+08:00",
          "2024-02-15T08:00:00+08:00",
          "2024-02-16T08:00:00+08:00",
          "2024-02-17T08:00:00+08:00",
          "2024-02-18T08:00:00+08:00",
          "2024-02-19T08:00:00+08:00",
          "2024-02-20T08:00:00+08:00",
          "2024-02-21T08:00:00+08:00",
          "2024-02-22T08:00:00+08:00",
          "2024-02-23T08:00:00+08:00",
          "2024-02-24T08:00:00+08:00",
          "2024-02-25T08:00:00+08:00",
          "2024-02-26T08:00:00+08:00",
          "2024-02-27T08:00:00+08:00",
          "2024-02-28T08:00:00+08:00",
          "2024-02-29T08:00:00+08:00",
          "2024-03-01T08:00:00+08:00",
          "2024-03-02T08:00:00+08:00",
          "2024-03-03T08:00:00+08:00",
          "2024-03-04T08:00:00+08:00",
          "2024-03-05T08:00:00+08:00",
          "2024-03-06T08:00:00+08:00",
          "2024-03-07T08:00:00+08:00",
          "2024-03-08T08:00:00+08:00",
          "2024-03-09T08:00:00+08:00",
          "2024-03-10T08:00:00+08:00",
          "2024-03-11T08:00:00+08:00",
          "2024-03-12T08:00:00+08:00",
          "2024-03-13T08:00:00+08:00",
          "2024-03-14T08:00:00+08:00",
          "2024-03-15T08:00:00+08:00",
          "2024-03-16T08:00:00+08:00",
          "2024-03-17T08:00:00+08:00",
          "2024-03-18T08:00:00+08:00",
          "2024-03-19T08:00:00+08:00",
          "2024-03-20T08:00:00+08:00",
          "2024-03-21T08:00:00+08:00",
          "2024-03-22T08:00:00+08:00",
          "2024-03-23T08:00:00+08:00",
          "2024-03-24T08:00:00+08:00",
          "2024-03-25T08:00:00+08:00",
          "2024-03-26T08:00:00+08:00",
          "2024-03-27T08:00:00+08:00",
          "2024-03-28T08:00:00+08:00",
          "2024-03-29T08:00:00+08:00",
          "2024-03-30T08:00:00+08:00",
          "2024-03-31T08:00:00+08:00",
          "2024-04-01T08:00:00+08:00",
          "2024-04-02T08:00:00+08:00",
          "2024-04-03T08:00:00+08:00",
          "2024-04-04T08:00:00+08:00",
          "2024-04-05T08:00:00+08:00",
          "2024-04-06T08:00:00+08:00",
          "2024-04-07T08:00:00+08:00",
          "2024-04-08T08:00:00+08:00",
          "2024-04-09T08:00:00+08:00",
          "2024-04-10T08:00:00+08:00",
          "2024-04-11T08:00:00+08:00",
          "2024-04-12T08:00:00+08:00",
          "2024-04-13T08:00:00+08:00",
          "2024-04-14T08:00:00+08:00",
          "2024-04-15T08:00:00+08:00",
          "2024-04-16T08:00:00+08:00",
          "2024-04-17T08:00:00+08:00",
          "2024-04-18T08:00:00+08:00",
          "2024-04-19T08:00:00+08:00",
          "2024-04-20T08:00:00+08:00",
          "2024-04-21T08:00:00+08:00",
          "2024-04-22T08:00:00+08:00",
          "2024-04-23T08:00:00+08:00",
          "2024-04-24T08:00:00+08:00",
          "2024-04-25T08:00:00+08:00",
          "2024-04-26T08:00:00+08:00",
          "2024-04-27T08:00:00+08:00",
          "2024-04-28T08:00:00+08:00",
          "2024-04-29T08:00:00+08:00",
          "2024-04-30T08:00:00+08:00",
          "2024-05-01T08:00:00+08:00",
          "2024-05-02T08:00:00+08:00",
          "2024-05-03T08:00:00+08:00",
          "2024-05-04T08:00:00+08:00",
          "2024-05-05T08:00:00+08:00",
          "2024-05-06T08:00:00+08:00",
          "2024-05-07T08:00:00+08:00",
          "2024-05-08T08:00:00+08:00",
          "2024-05-09T08:00:00+08:00",
          "2024-05-10T08:00:00+08:00",
          "2024-05-11T08:00:00+08:00",
          "2024-05-12T08:00:00+08:00",
          "2024-05-13T08:00:00+08:00",
          "2024-05-14T08:00:00+08:00",
          "2024-05-15T08:00:00+08:00",
          "2024-05-16T08:00:00+08:00",
          "2024-05-17T08:00:00+08:00",
          "2024-05-18T08:00:00+08:00",
          "2024-05-19T08:00:00+08:00",
          "2024-05-20T08:00:00+08:00",
          "2024-05-21T08:00:00+08:00",
          "2024-05-22T08:00:00+08:00",
          "2024-05-23T08:00:00+08:00",
          "2024-05-24T08:00:00+08:00",
          "2024-05-25T08:00:00+08:00",
          "2024-05-26T08:00:00+08:00",
          "2024-05-27T08:00:00+08:00",
          "2024-05-28T08:00:00+08:00",
          "2024-05-29T08:00:00+08:00",
          "2024-05-30T08:00:00+08:00",
          "2024-05-31T08:00:00+08:00",
          "2024-06-01T08:00:00+08:00",
          "2024-06-02T08:00:00+08:00",
          "2024-06-03T08:00:00+08:00",
          "2024-06-04T08:00:00+08:00",
          "2024-06-05T08:00:00+08:00",
          "2024-06-06T08:00:00+08:00",
          "2024-06-07T08:00:00+08:00",
          "2024-06-08T08:00:00+08:00",
          "2024-06-09T08:00:00+08:00",
          "2024-06-10T08:00:00+08:00",
          "2024-06-11T08:00:00+08:00",
          "2024-06-12T08:00:00+08:00",
          "2024-06-13T08:00:00+08:00",
          "2024-06-14T08:00:00+08:00",
          "2024-06-15T08:00:00+08:00",
          "2024-06-16T08:00:00+08:00",
          "2024-06-17T08:00:00+08:00",
          "2024-06-18T08:00:00+08:00",
          "2024-06-19T08:00:00+08:00",
          "2024-06-20T08:00:00+08:00",
          "2024-06-21T08:00:00+08:00",
          "2024-06-22T08:00:00+08:00",
          "2024-06-23T08:00:00+08:00",
          "2024-06-24T08:00:00+08:00",
          "2024-06-25T08:00:00+08:00",
          "2024-06-26T08:00:00+08:00",
          "2024-06-27T08:00:00+08:00",
          "2024-06-28T08:00:00+08:00",
          "2024-06-29T08:00:00+08:00",
          "2024-06-30T08:00:00+08:00",
          "2024-07-01T08:00:00+08:00",
          "2024-07-02T08:00:00+08:00",
          "2024-07-03T08:00:00+08:00",
          "2024-07-04T08:00:00+08:00",
          "2024-07-05T08:00:00+08:00",
          "2024-07-06T08:00:00+08:00",
          "2024-07-07T08:00:00+08:00",
          "2024-07-08T08:00:00+08:00",
          "2024-07-09T08:00:00+08:00",
          "2024-07-10T08:00:00+08:00",
          "2024-07-11T08:00:00+08:00",
          "2024-07-12T08:00:00+08:00",
          "2024-07-13T08:00:00+08:00",
          "2024-07-14T08:00:00+08:00",
          "2024-07-15T08:00:00+08:00",
          "2024-07-16T08:00:00+08:00",
          "2024-07-17T08:00:00+08:00",
          "2024-07-18T08:00:00+08:00",
          "2024-07-19T08:00:00+08:00",
          "2024-07-20T08:00:00+08:00",
          "2024-07-21T08:00:00+08:00",
          "2024-07-22T08:00:00+08:00",
          "2024-07-23T08:00:00+08:00",
          "2024-07-24T08:00:00+08:00",
          "2024-07-25T08:00:00+08:00",
          "2024-07-26T08:00:00+08:00",
          "2024-07-27T08:00:00+08:00",
          "2024-07-28T08:00:00+08:00",
          "2024-07-29T08:00:00+08:00",
          "2024-07-30T08:00:00+08:00",
          "2024-07-31T08:00:00+08:00",
          "2024-08-01T08:00:00+08:00",
          "2024-08-02T08:00:00+08:00",
          "2024-08-03T08:00:00+08:00",
          "2024-08-04T08:00:00+08:00",
          "2024-08-05T08:00:00+08:00",
          "2024-08-06T08:00:00+08:00",
          "2024-08-07T08:00:00+08:00",
          "2024-08-08T08:00:00+08:00",
          "2024-08-09T08:00:00+08:00",
          "2024-08-10T08:00:00+08:00",
          "2024-08-11T08:00:00+08:00",
          "2024-08-12T08:00:00+08:00",
          "2024-08-13T08:00:00+08:00",
          "2024-08-14T08:00:00+08:00",
          "2024-08-15T08:00:00+08:00",
          "2024-08-16T08:00:00+08:00",
          "2024-08-17T08:00:00+08:00",
          "2024-08-18T08:00:00+08:00",
          "2024-08-19T08:00:00+08:00",
          "2024-08-20T08:00:00+08:00",
          "2024-08-21T08:00:00+08:00",
          "2024-08-22T08:00:00+08:00",
          "2024-08-23T08:00:00+08:00",
          "2024-08-24T08:00:00+08:00",
          "2024-08-25T08:00:00+08:00",
          "2024-08-26T08:00:00+08:00",
          "2024-08-27T08:00:00+08:00",
          "2024-08-28T08:00:00+08:00",
          "2024-08-29T08:00:00+08:00",
          "2024-08-30T08:00:00+08:00",
          "2024-08-31T08:00:00+08:00",
          "2024-09-01T08:00:00+08:00",
          "2024-09-02T08:00:00+08:00",
          "2024-09-03T08:00:00+08:00",
          "2024-09-04T08:00:00+08:00",
          "2024-09-05T08:00:00+08:00",
          "2024-09-06T08:00:00+08:00",
          "2024-09-07T08:00:00+08:00",
          "2024-09-08T08:00:00+08:00",
          "2024-09-09T08:00:00+08:00",
          "2024-09-10T08:00:00+08:00",
          "2024-09-11T08:00:00+08:00",
          "2024-09-12T08:00:00+08:00",
          "2024-09-13T08:00:00+08:00",
          "2024-09-14T08:00:00+08:00",
          "2024-09-15T08:00:00+08:00",
          "2024-09-16T08:00:00+08:00",
          "2024-09-17T08:00:00+08:00",
          "2024-09-18T08:00:00+08:00",
          "2024-09-19T08:00:00+08:00",
          "2024-09-20T08:00:00+08:00",
          "2024-09-21T08:00:00+08:00",
          "2024-09-22T08:00:00+08:00",
          "2024-09-23T08:00:00+08:00",
          "2024-09-24T08:00:00+08:00",
          "2024-09-25T08:00:00+08:00",
          "2024-09-26T08:00:00+08:00",
          "2024-09-27T08:00:00+08:00",
          "2024-09-28T08:00:00+08:00",
          "2024-09-29T08:00:00+08:00",
          "2024-09-30T08:00:00+08:00",
          "2024-10-01T08:00:00+08:00",
          "2024-10-02T08:00:00+08:00",
          "2024-10-03T08:00:00+08:00",
          "2024-10-04T08:00:00+08:00",
          "2024-10-05T08:00:00+08:00",
          "2024-10-06T08:00:00+08:00",
          "2024-10-07T08:00:00+08:00",
          "2024-10-08T08:00:00+08:00",
          "2024-10-09T08:00:00+08:00",
          "2024-10-10T08:00:00+08:00",
          "2024-10-11T08:00:00+08:00",
          "2024-10-12T08:00:00+08:00",
          "2024-10-13T08:00:00+08:00",
          "2024-10-14T08:00:00+08:00",
          "2024-10-15T08:00:00+08:00",
          "2024-10-16T08:00:00+08:00",
          "2024-10-17T08:00:00+08:00",
          "2024-10-18T08:00:00+08:00",
          "2024-10-19T08:00:00+08:00",
          "2024-10-20T08:00:00+08:00",
          "2024-10-21T08:00:00+08:00",
          "2024-10-22T08:00:00+08:00",
          "2024-10-23T08:00:00+08:00",
          "2024-10-24T08:00:00+08:00",
          "2024-10-25T08:00:00+08:00",
          "2024-10-26T08:00:00+08:00",
          "2024-10-27T08:00:00+08:00",
          "2024-10-28T08:00:00+08:00",
          "2024-10-29T08:00:00+08:00",
          "2024-10-30T08:00:00+08:00",
          "2024-10-31T08:00:00+08:00",
          "2024-11-01T08:00:00+08:00",
          "2024-11-02T08:00:00+08:00",
          "2024-11-03T08:00:00+08:00",
          "2024-11-04T08:00:00+08:00",
          "2024-11-05T08:00:00+08:00",
          "2024-11-06T08:00:00+08:00",
          "2024-11-07T08:00:00+08:00",
          "2024-11-08T08:00:00+08:00",
          "2024-11-09T08:00:00+08:00",
          "2024-11-10T08:00:00+08:00",
          "2024-11-11T08:00:00+08:00",
          "2024-11-12T08:00:00+08:00",
          "2024-11-13T08:00:00+08:00",
          "2024-11-14T08:00:00+08:00",
          "2024-11-15T08:00:00+08:00",
          "2024-11-16T08:00:00+08:00",
          "2024-11-17T08:00:00+08:00",
          "2024-11-18T08:00:00+08:00",
          "2024-11-19T08:00:00+08:00",
          "2024-11-20T08:00:00+08:00",
          "2024-11-21T08:00:00+08:00",
          "2024-11-22T08:00:00+08:00",
          "2024-11-23T08:00:00+08:00",
          "2024-11-24T08:00:00+08:00",
          "2024-11-25T08:00:00+08:00",
          "2024-11-26T08:00:00+08:00",
          "2024-11-27T08:00:00+08:00",
          "2024-11-28T08:00:00+08:00",
          "2024-11-29T08:00:00+08:00",
          "2024-11-30T08:00:00+08:00",
          "2024-12-01T08:00:00+08:00",
          "2024-12-02T08:00:00+08:00",
          "2024-12-03T08:00:00+08:00",
          "2024-12-04T08:00:00+08:00",
          "2024-12-05T08:00:00+08:00",
          "2024-12-06T08:00:00+08:00",
          "2024-12-07T08:00:00+08:00",
          "2024-12-08T08:00:00+08:00",
          "2024-12-09T08:00:00+08:00",
          "2024-12-10T08:00:00+08:00",
          "2024-12-11T08:00:00+08:00",
          "2024-12-12T08:00:00+08:00",
          "2024-12-13T08:00:00+08:00",
          "2024-12-14T08:00:00+08:00",
          "2024-12-15T08:00:00+08:00",
          "2024-12-16T08:00:00+08:00",
          "2024-12-17T08:00:00+08:00",
          "2024-12-18T08:00:00+08:00",
          "2024-12-19T08:00:00+08:00",
          "2024-12-20T08:00:00+08:00",
          "2024-12-21T08:00:00+08:00",
          "2024-12-22T08:00:00+08:00",
          "2024-12-23T08:00:00+08:00",
          "2024-12-24T08:00:00+08:00",
          "2024-12-25T08:00:00+08:00",
          "2024-12-26T08:00:00+08:00",
          "2024-12-27T08:00:00+08:00",
          "2024-12-28T08:00:00+08:00",
          "2024-12-29T08:00:00+08:00",
          "2024-12-30T08:00:00+08:00"
         ],
         "xaxis": "x2",
         "y": {
          "bdata": "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",
          "dtype": "f8"
         },
         "yaxis": "y2"
        },
        {
         "line": {
          "color": "orange"
         },
         "mode": "lines",
         "name": "Equity Curve (%)",
         "type": "scatter",
         "x": [
          "2024-01-01T08:00:00+08:00",
          "2024-01-02T08:00:00+08:00",
          "2024-01-03T08:00:00+08:00",
          "2024-01-04T08:00:00+08:00",
          "2024-01-05T08:00:00+08:00",
          "2024-01-06T08:00:00+08:00",
          "2024-01-07T08:00:00+08:00",
          "2024-01-08T08:00:00+08:00",
          "2024-01-09T08:00:00+08:00",
          "2024-01-10T08:00:00+08:00",
          "2024-01-11T08:00:00+08:00",
          "2024-01-12T08:00:00+08:00",
          "2024-01-13T08:00:00+08:00",
          "2024-01-14T08:00:00+08:00",
          "2024-01-15T08:00:00+08:00",
          "2024-01-16T08:00:00+08:00",
          "2024-01-17T08:00:00+08:00",
          "2024-01-18T08:00:00+08:00",
          "2024-01-19T08:00:00+08:00",
          "2024-01-20T08:00:00+08:00",
          "2024-01-21T08:00:00+08:00",
          "2024-01-22T08:00:00+08:00",
          "2024-01-23T08:00:00+08:00",
          "2024-01-24T08:00:00+08:00",
          "2024-01-25T08:00:00+08:00",
          "2024-01-26T08:00:00+08:00",
          "2024-01-27T08:00:00+08:00",
          "2024-01-28T08:00:00+08:00",
          "2024-01-29T08:00:00+08:00",
          "2024-01-30T08:00:00+08:00",
          "2024-01-31T08:00:00+08:00",
          "2024-02-01T08:00:00+08:00",
          "2024-02-02T08:00:00+08:00",
          "2024-02-03T08:00:00+08:00",
          "2024-02-04T08:00:00+08:00",
          "2024-02-05T08:00:00+08:00",
          "2024-02-06T08:00:00+08:00",
          "2024-02-07T08:00:00+08:00",
          "2024-02-08T08:00:00+08:00",
          "2024-02-09T08:00:00+08:00",
          "2024-02-10T08:00:00+08:00",
          "2024-02-11T08:00:00+08:00",
          "2024-02-12T08:00:00+08:00",
          "2024-02-13T08:00:00+08:00",
          "2024-02-14T08:00:00+08:00",
          "2024-02-15T08:00:00+08:00",
          "2024-02-16T08:00:00+08:00",
          "2024-02-17T08:00:00+08:00",
          "2024-02-18T08:00:00+08:00",
          "2024-02-19T08:00:00+08:00",
          "2024-02-20T08:00:00+08:00",
          "2024-02-21T08:00:00+08:00",
          "2024-02-22T08:00:00+08:00",
          "2024-02-23T08:00:00+08:00",
          "2024-02-24T08:00:00+08:00",
          "2024-02-25T08:00:00+08:00",
          "2024-02-26T08:00:00+08:00",
          "2024-02-27T08:00:00+08:00",
          "2024-02-28T08:00:00+08:00",
          "2024-02-29T08:00:00+08:00",
          "2024-03-01T08:00:00+08:00",
          "2024-03-02T08:00:00+08:00",
          "2024-03-03T08:00:00+08:00",
          "2024-03-04T08:00:00+08:00",
          "2024-03-05T08:00:00+08:00",
          "2024-03-06T08:00:00+08:00",
          "2024-03-07T08:00:00+08:00",
          "2024-03-08T08:00:00+08:00",
          "2024-03-09T08:00:00+08:00",
          "2024-03-10T08:00:00+08:00",
          "2024-03-11T08:00:00+08:00",
          "2024-03-12T08:00:00+08:00",
          "2024-03-13T08:00:00+08:00",
          "2024-03-14T08:00:00+08:00",
          "2024-03-15T08:00:00+08:00",
          "2024-03-16T08:00:00+08:00",
          "2024-03-17T08:00:00+08:00",
          "2024-03-18T08:00:00+08:00",
          "2024-03-19T08:00:00+08:00",
          "2024-03-20T08:00:00+08:00",
          "2024-03-21T08:00:00+08:00",
          "2024-03-22T08:00:00+08:00",
          "2024-03-23T08:00:00+08:00",
          "2024-03-24T08:00:00+08:00",
          "2024-03-25T08:00:00+08:00",
          "2024-03-26T08:00:00+08:00",
          "2024-03-27T08:00:00+08:00",
          "2024-03-28T08:00:00+08:00",
          "2024-03-29T08:00:00+08:00",
          "2024-03-30T08:00:00+08:00",
          "2024-03-31T08:00:00+08:00",
          "2024-04-01T08:00:00+08:00",
          "2024-04-02T08:00:00+08:00",
          "2024-04-03T08:00:00+08:00",
          "2024-04-04T08:00:00+08:00",
          "2024-04-05T08:00:00+08:00",
          "2024-04-06T08:00:00+08:00",
          "2024-04-07T08:00:00+08:00",
          "2024-04-08T08:00:00+08:00",
          "2024-04-09T08:00:00+08:00",
          "2024-04-10T08:00:00+08:00",
          "2024-04-11T08:00:00+08:00",
          "2024-04-12T08:00:00+08:00",
          "2024-04-13T08:00:00+08:00",
          "2024-04-14T08:00:00+08:00",
          "2024-04-15T08:00:00+08:00",
          "2024-04-16T08:00:00+08:00",
          "2024-04-17T08:00:00+08:00",
          "2024-04-18T08:00:00+08:00",
          "2024-04-19T08:00:00+08:00",
          "2024-04-20T08:00:00+08:00",
          "2024-04-21T08:00:00+08:00",
          "2024-04-22T08:00:00+08:00",
          "2024-04-23T08:00:00+08:00",
          "2024-04-24T08:00:00+08:00",
          "2024-04-25T08:00:00+08:00",
          "2024-04-26T08:00:00+08:00",
          "2024-04-27T08:00:00+08:00",
          "2024-04-28T08:00:00+08:00",
          "2024-04-29T08:00:00+08:00",
          "2024-04-30T08:00:00+08:00",
          "2024-05-01T08:00:00+08:00",
          "2024-05-02T08:00:00+08:00",
          "2024-05-03T08:00:00+08:00",
          "2024-05-04T08:00:00+08:00",
          "2024-05-05T08:00:00+08:00",
          "2024-05-06T08:00:00+08:00",
          "2024-05-07T08:00:00+08:00",
          "2024-05-08T08:00:00+08:00",
          "2024-05-09T08:00:00+08:00",
          "2024-05-10T08:00:00+08:00",
          "2024-05-11T08:00:00+08:00",
          "2024-05-12T08:00:00+08:00",
          "2024-05-13T08:00:00+08:00",
          "2024-05-14T08:00:00+08:00",
          "2024-05-15T08:00:00+08:00",
          "2024-05-16T08:00:00+08:00",
          "2024-05-17T08:00:00+08:00",
          "2024-05-18T08:00:00+08:00",
          "2024-05-19T08:00:00+08:00",
          "2024-05-20T08:00:00+08:00",
          "2024-05-21T08:00:00+08:00",
          "2024-05-22T08:00:00+08:00",
          "2024-05-23T08:00:00+08:00",
          "2024-05-24T08:00:00+08:00",
          "2024-05-25T08:00:00+08:00",
          "2024-05-26T08:00:00+08:00",
          "2024-05-27T08:00:00+08:00",
          "2024-05-28T08:00:00+08:00",
          "2024-05-29T08:00:00+08:00",
          "2024-05-30T08:00:00+08:00",
          "2024-05-31T08:00:00+08:00",
          "2024-06-01T08:00:00+08:00",
          "2024-06-02T08:00:00+08:00",
          "2024-06-03T08:00:00+08:00",
          "2024-06-04T08:00:00+08:00",
          "2024-06-05T08:00:00+08:00",
          "2024-06-06T08:00:00+08:00",
          "2024-06-07T08:00:00+08:00",
          "2024-06-08T08:00:00+08:00",
          "2024-06-09T08:00:00+08:00",
          "2024-06-10T08:00:00+08:00",
          "2024-06-11T08:00:00+08:00",
          "2024-06-12T08:00:00+08:00",
          "2024-06-13T08:00:00+08:00",
          "2024-06-14T08:00:00+08:00",
          "2024-06-15T08:00:00+08:00",
          "2024-06-16T08:00:00+08:00",
          "2024-06-17T08:00:00+08:00",
          "2024-06-18T08:00:00+08:00",
          "2024-06-19T08:00:00+08:00",
          "2024-06-20T08:00:00+08:00",
          "2024-06-21T08:00:00+08:00",
          "2024-06-22T08:00:00+08:00",
          "2024-06-23T08:00:00+08:00",
          "2024-06-24T08:00:00+08:00",
          "2024-06-25T08:00:00+08:00",
          "2024-06-26T08:00:00+08:00",
          "2024-06-27T08:00:00+08:00",
          "2024-06-28T08:00:00+08:00",
          "2024-06-29T08:00:00+08:00",
          "2024-06-30T08:00:00+08:00",
          "2024-07-01T08:00:00+08:00",
          "2024-07-02T08:00:00+08:00",
          "2024-07-03T08:00:00+08:00",
          "2024-07-04T08:00:00+08:00",
          "2024-07-05T08:00:00+08:00",
          "2024-07-06T08:00:00+08:00",
          "2024-07-07T08:00:00+08:00",
          "2024-07-08T08:00:00+08:00",
          "2024-07-09T08:00:00+08:00",
          "2024-07-10T08:00:00+08:00",
          "2024-07-11T08:00:00+08:00",
          "2024-07-12T08:00:00+08:00",
          "2024-07-13T08:00:00+08:00",
          "2024-07-14T08:00:00+08:00",
          "2024-07-15T08:00:00+08:00",
          "2024-07-16T08:00:00+08:00",
          "2024-07-17T08:00:00+08:00",
          "2024-07-18T08:00:00+08:00",
          "2024-07-19T08:00:00+08:00",
          "2024-07-20T08:00:00+08:00",
          "2024-07-21T08:00:00+08:00",
          "2024-07-22T08:00:00+08:00",
          "2024-07-23T08:00:00+08:00",
          "2024-07-24T08:00:00+08:00",
          "2024-07-25T08:00:00+08:00",
          "2024-07-26T08:00:00+08:00",
          "2024-07-27T08:00:00+08:00",
          "2024-07-28T08:00:00+08:00",
          "2024-07-29T08:00:00+08:00",
          "2024-07-30T08:00:00+08:00",
          "2024-07-31T08:00:00+08:00",
          "2024-08-01T08:00:00+08:00",
          "2024-08-02T08:00:00+08:00",
          "2024-08-03T08:00:00+08:00",
          "2024-08-04T08:00:00+08:00",
          "2024-08-05T08:00:00+08:00",
          "2024-08-06T08:00:00+08:00",
          "2024-08-07T08:00:00+08:00",
          "2024-08-08T08:00:00+08:00",
          "2024-08-09T08:00:00+08:00",
          "2024-08-10T08:00:00+08:00",
          "2024-08-11T08:00:00+08:00",
          "2024-08-12T08:00:00+08:00",
          "2024-08-13T08:00:00+08:00",
          "2024-08-14T08:00:00+08:00",
          "2024-08-15T08:00:00+08:00",
          "2024-08-16T08:00:00+08:00",
          "2024-08-17T08:00:00+08:00",
          "2024-08-18T08:00:00+08:00",
          "2024-08-19T08:00:00+08:00",
          "2024-08-20T08:00:00+08:00",
          "2024-08-21T08:00:00+08:00",
          "2024-08-22T08:00:00+08:00",
          "2024-08-23T08:00:00+08:00",
          "2024-08-24T08:00:00+08:00",
          "2024-08-25T08:00:00+08:00",
          "2024-08-26T08:00:00+08:00",
          "2024-08-27T08:00:00+08:00",
          "2024-08-28T08:00:00+08:00",
          "2024-08-29T08:00:00+08:00",
          "2024-08-30T08:00:00+08:00",
          "2024-08-31T08:00:00+08:00",
          "2024-09-01T08:00:00+08:00",
          "2024-09-02T08:00:00+08:00",
          "2024-09-03T08:00:00+08:00",
          "2024-09-04T08:00:00+08:00",
          "2024-09-05T08:00:00+08:00",
          "2024-09-06T08:00:00+08:00",
          "2024-09-07T08:00:00+08:00",
          "2024-09-08T08:00:00+08:00",
          "2024-09-09T08:00:00+08:00",
          "2024-09-10T08:00:00+08:00",
          "2024-09-11T08:00:00+08:00",
          "2024-09-12T08:00:00+08:00",
          "2024-09-13T08:00:00+08:00",
          "2024-09-14T08:00:00+08:00",
          "2024-09-15T08:00:00+08:00",
          "2024-09-16T08:00:00+08:00",
          "2024-09-17T08:00:00+08:00",
          "2024-09-18T08:00:00+08:00",
          "2024-09-19T08:00:00+08:00",
          "2024-09-20T08:00:00+08:00",
          "2024-09-21T08:00:00+08:00",
          "2024-09-22T08:00:00+08:00",
          "2024-09-23T08:00:00+08:00",
          "2024-09-24T08:00:00+08:00",
          "2024-09-25T08:00:00+08:00",
          "2024-09-26T08:00:00+08:00",
          "2024-09-27T08:00:00+08:00",
          "2024-09-28T08:00:00+08:00",
          "2024-09-29T08:00:00+08:00",
          "2024-09-30T08:00:00+08:00",
          "2024-10-01T08:00:00+08:00",
          "2024-10-02T08:00:00+08:00",
          "2024-10-03T08:00:00+08:00",
          "2024-10-04T08:00:00+08:00",
          "2024-10-05T08:00:00+08:00",
          "2024-10-06T08:00:00+08:00",
          "2024-10-07T08:00:00+08:00",
          "2024-10-08T08:00:00+08:00",
          "2024-10-09T08:00:00+08:00",
          "2024-10-10T08:00:00+08:00",
          "2024-10-11T08:00:00+08:00",
          "2024-10-12T08:00:00+08:00",
          "2024-10-13T08:00:00+08:00",
          "2024-10-14T08:00:00+08:00",
          "2024-10-15T08:00:00+08:00",
          "2024-10-16T08:00:00+08:00",
          "2024-10-17T08:00:00+08:00",
          "2024-10-18T08:00:00+08:00",
          "2024-10-19T08:00:00+08:00",
          "2024-10-20T08:00:00+08:00",
          "2024-10-21T08:00:00+08:00",
          "2024-10-22T08:00:00+08:00",
          "2024-10-23T08:00:00+08:00",
          "2024-10-24T08:00:00+08:00",
          "2024-10-25T08:00:00+08:00",
          "2024-10-26T08:00:00+08:00",
          "2024-10-27T08:00:00+08:00",
          "2024-10-28T08:00:00+08:00",
          "2024-10-29T08:00:00+08:00",
          "2024-10-30T08:00:00+08:00",
          "2024-10-31T08:00:00+08:00",
          "2024-11-01T08:00:00+08:00",
          "2024-11-02T08:00:00+08:00",
          "2024-11-03T08:00:00+08:00",
          "2024-11-04T08:00:00+08:00",
          "2024-11-05T08:00:00+08:00",
          "2024-11-06T08:00:00+08:00",
          "2024-11-07T08:00:00+08:00",
          "2024-11-08T08:00:00+08:00",
          "2024-11-09T08:00:00+08:00",
          "2024-11-10T08:00:00+08:00",
          "2024-11-11T08:00:00+08:00",
          "2024-11-12T08:00:00+08:00",
          "2024-11-13T08:00:00+08:00",
          "2024-11-14T08:00:00+08:00",
          "2024-11-15T08:00:00+08:00",
          "2024-11-16T08:00:00+08:00",
          "2024-11-17T08:00:00+08:00",
          "2024-11-18T08:00:00+08:00",
          "2024-11-19T08:00:00+08:00",
          "2024-11-20T08:00:00+08:00",
          "2024-11-21T08:00:00+08:00",
          "2024-11-22T08:00:00+08:00",
          "2024-11-23T08:00:00+08:00",
          "2024-11-24T08:00:00+08:00",
          "2024-11-25T08:00:00+08:00",
          "2024-11-26T08:00:00+08:00",
          "2024-11-27T08:00:00+08:00",
          "2024-11-28T08:00:00+08:00",
          "2024-11-29T08:00:00+08:00",
          "2024-11-30T08:00:00+08:00",
          "2024-12-01T08:00:00+08:00",
          "2024-12-02T08:00:00+08:00",
          "2024-12-03T08:00:00+08:00",
          "2024-12-04T08:00:00+08:00",
          "2024-12-05T08:00:00+08:00",
          "2024-12-06T08:00:00+08:00",
          "2024-12-07T08:00:00+08:00",
          "2024-12-08T08:00:00+08:00",
          "2024-12-09T08:00:00+08:00",
          "2024-12-10T08:00:00+08:00",
          "2024-12-11T08:00:00+08:00",
          "2024-12-12T08:00:00+08:00",
          "2024-12-13T08:00:00+08:00",
          "2024-12-14T08:00:00+08:00",
          "2024-12-15T08:00:00+08:00",
          "2024-12-16T08:00:00+08:00",
          "2024-12-17T08:00:00+08:00",
          "2024-12-18T08:00:00+08:00",
          "2024-12-19T08:00:00+08:00",
          "2024-12-20T08:00:00+08:00",
          "2024-12-21T08:00:00+08:00",
          "2024-12-22T08:00:00+08:00",
          "2024-12-23T08:00:00+08:00",
          "2024-12-24T08:00:00+08:00",
          "2024-12-25T08:00:00+08:00",
          "2024-12-26T08:00:00+08:00",
          "2024-12-27T08:00:00+08:00",
          "2024-12-28T08:00:00+08:00",
          "2024-12-29T08:00:00+08:00",
          "2024-12-30T08:00:00+08:00"
         ],
         "xaxis": "x2",
         "y": {
          "bdata": "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",
          "dtype": "f8"
         },
         "yaxis": "y2"
        }
       ],
       "layout": {
        "height": 800,
        "template": {
         "data": {
          "bar": [
           {
            "error_x": {
             "color": "#2a3f5f"
            },
            "error_y": {
             "color": "#2a3f5f"
            },
            "marker": {
             "line": {
              "color": "#E5ECF6",
              "width": 0.5
             },
             "pattern": {
              "fillmode": "overlay",
              "size": 10,
              "solidity": 0.2
             }
            },
            "type": "bar"
           }
          ],
          "barpolar": [
           {
            "marker": {
             "line": {
              "color": "#E5ECF6",
              "width": 0.5
             },
             "pattern": {
              "fillmode": "overlay",
              "size": 10,
              "solidity": 0.2
             }
            },
            "type": "barpolar"
           }
          ],
          "carpet": [
           {
            "aaxis": {
             "endlinecolor": "#2a3f5f",
             "gridcolor": "white",
             "linecolor": "white",
             "minorgridcolor": "white",
             "startlinecolor": "#2a3f5f"
            },
            "baxis": {
             "endlinecolor": "#2a3f5f",
             "gridcolor": "white",
             "linecolor": "white",
             "minorgridcolor": "white",
             "startlinecolor": "#2a3f5f"
            },
            "type": "carpet"
           }
          ],
          "choropleth": [
           {
            "colorbar": {
             "outlinewidth": 0,
             "ticks": ""
            },
            "type": "choropleth"
           }
          ],
          "contour": [
           {
            "colorbar": {
             "outlinewidth": 0,
             "ticks": ""
            },
            "colorscale": [
             [
              0,
              "#0d0887"
             ],
             [
              0.1111111111111111,
              "#46039f"
             ],
             [
              0.2222222222222222,
              "#7201a8"
             ],
             [
              0.3333333333333333,
              "#9c179e"
             ],
             [
              0.4444444444444444,
              "#bd3786"
             ],
             [
              0.5555555555555556,
              "#d8576b"
             ],
             [
              0.6666666666666666,
              "#ed7953"
             ],
             [
              0.7777777777777778,
              "#fb9f3a"
             ],
             [
              0.8888888888888888,
              "#fdca26"
             ],
             [
              1,
              "#f0f921"
             ]
            ],
            "type": "contour"
           }
          ],
          "contourcarpet": [
           {
            "colorbar": {
             "outlinewidth": 0,
             "ticks": ""
            },
            "type": "contourcarpet"
           }
          ],
          "heatmap": [
           {
            "colorbar": {
             "outlinewidth": 0,
             "ticks": ""
            },
            "colorscale": [
             [
              0,
              "#0d0887"
             ],
             [
              0.1111111111111111,
              "#46039f"
             ],
             [
              0.2222222222222222,
              "#7201a8"
             ],
             [
              0.3333333333333333,
              "#9c179e"
             ],
             [
              0.4444444444444444,
              "#bd3786"
             ],
             [
              0.5555555555555556,
              "#d8576b"
             ],
             [
              0.6666666666666666,
              "#ed7953"
             ],
             [
              0.7777777777777778,
              "#fb9f3a"
             ],
             [
              0.8888888888888888,
              "#fdca26"
             ],
             [
              1,
              "#f0f921"
             ]
            ],
            "type": "heatmap"
           }
          ],
          "histogram": [
           {
            "marker": {
             "pattern": {
              "fillmode": "overlay",
              "size": 10,
              "solidity": 0.2
             }
            },
            "type": "histogram"
           }
          ],
          "histogram2d": [
           {
            "colorbar": {
             "outlinewidth": 0,
             "ticks": ""
            },
            "colorscale": [
             [
              0,
              "#0d0887"
             ],
             [
              0.1111111111111111,
              "#46039f"
             ],
             [
              0.2222222222222222,
              "#7201a8"
             ],
             [
              0.3333333333333333,
              "#9c179e"
             ],
             [
              0.4444444444444444,
              "#bd3786"
             ],
             [
              0.5555555555555556,
              "#d8576b"
             ],
             [
              0.6666666666666666,
              "#ed7953"
             ],
             [
              0.7777777777777778,
              "#fb9f3a"
             ],
             [
              0.8888888888888888,
              "#fdca26"
             ],
             [
              1,
              "#f0f921"
             ]
            ],
            "type": "histogram2d"
           }
          ],
          "histogram2dcontour": [
           {
            "colorbar": {
             "outlinewidth": 0,
             "ticks": ""
            },
            "colorscale": [
             [
              0,
              "#0d0887"
             ],
             [
              0.1111111111111111,
              "#46039f"
             ],
             [
              0.2222222222222222,
              "#7201a8"
             ],
             [
              0.3333333333333333,
              "#9c179e"
             ],
             [
              0.4444444444444444,
              "#bd3786"
             ],
             [
              0.5555555555555556,
              "#d8576b"
             ],
             [
              0.6666666666666666,
              "#ed7953"
             ],
             [
              0.7777777777777778,
              "#fb9f3a"
             ],
             [
              0.8888888888888888,
              "#fdca26"
             ],
             [
              1,
              "#f0f921"
             ]
            ],
            "type": "histogram2dcontour"
           }
          ],
          "mesh3d": [
           {
            "colorbar": {
             "outlinewidth": 0,
             "ticks": ""
            },
            "type": "mesh3d"
           }
          ],
          "parcoords": [
           {
            "line": {
             "colorbar": {
              "outlinewidth": 0,
              "ticks": ""
             }
            },
            "type": "parcoords"
           }
          ],
          "pie": [
           {
            "automargin": true,
            "type": "pie"
           }
          ],
          "scatter": [
           {
            "fillpattern": {
             "fillmode": "overlay",
             "size": 10,
             "solidity": 0.2
            },
            "type": "scatter"
           }
          ],
          "scatter3d": [
           {
            "line": {
             "colorbar": {
              "outlinewidth": 0,
              "ticks": ""
             }
            },
            "marker": {
             "colorbar": {
              "outlinewidth": 0,
              "ticks": ""
             }
            },
            "type": "scatter3d"
           }
          ],
          "scattercarpet": [
           {
            "marker": {
             "colorbar": {
              "outlinewidth": 0,
              "ticks": ""
             }
            },
            "type": "scattercarpet"
           }
          ],
          "scattergeo": [
           {
            "marker": {
             "colorbar": {
              "outlinewidth": 0,
              "ticks": ""
             }
            },
            "type": "scattergeo"
           }
          ],
          "scattergl": [
           {
            "marker": {
             "colorbar": {
              "outlinewidth": 0,
              "ticks": ""
             }
            },
            "type": "scattergl"
           }
          ],
          "scattermap": [
           {
            "marker": {
             "colorbar": {
              "outlinewidth": 0,
              "ticks": ""
             }
            },
            "type": "scattermap"
           }
          ],
          "scattermapbox": [
           {
            "marker": {
             "colorbar": {
              "outlinewidth": 0,
              "ticks": ""
             }
            },
            "type": "scattermapbox"
           }
          ],
          "scatterpolar": [
           {
            "marker": {
             "colorbar": {
              "outlinewidth": 0,
              "ticks": ""
             }
            },
            "type": "scatterpolar"
           }
          ],
          "scatterpolargl": [
           {
            "marker": {
             "colorbar": {
              "outlinewidth": 0,
              "ticks": ""
             }
            },
            "type": "scatterpolargl"
           }
          ],
          "scatterternary": [
           {
            "marker": {
             "colorbar": {
              "outlinewidth": 0,
              "ticks": ""
             }
            },
            "type": "scatterternary"
           }
          ],
          "surface": [
           {
            "colorbar": {
             "outlinewidth": 0,
             "ticks": ""
            },
            "colorscale": [
             [
              0,
              "#0d0887"
             ],
             [
              0.1111111111111111,
              "#46039f"
             ],
             [
              0.2222222222222222,
              "#7201a8"
             ],
             [
              0.3333333333333333,
              "#9c179e"
             ],
             [
              0.4444444444444444,
              "#bd3786"
             ],
             [
              0.5555555555555556,
              "#d8576b"
             ],
             [
              0.6666666666666666,
              "#ed7953"
             ],
             [
              0.7777777777777778,
              "#fb9f3a"
             ],
             [
              0.8888888888888888,
              "#fdca26"
             ],
             [
              1,
              "#f0f921"
             ]
            ],
            "type": "surface"
           }
          ],
          "table": [
           {
            "cells": {
             "fill": {
              "color": "#EBF0F8"
             },
             "line": {
              "color": "white"
             }
            },
            "header": {
             "fill": {
              "color": "#C8D4E3"
             },
             "line": {
              "color": "white"
             }
            },
            "type": "table"
           }
          ]
         },
         "layout": {
          "annotationdefaults": {
           "arrowcolor": "#2a3f5f",
           "arrowhead": 0,
           "arrowwidth": 1
          },
          "autotypenumbers": "strict",
          "coloraxis": {
           "colorbar": {
            "outlinewidth": 0,
            "ticks": ""
           }
          },
          "colorscale": {
           "diverging": [
            [
             0,
             "#8e0152"
            ],
            [
             0.1,
             "#c51b7d"
            ],
            [
             0.2,
             "#de77ae"
            ],
            [
             0.3,
             "#f1b6da"
            ],
            [
             0.4,
             "#fde0ef"
            ],
            [
             0.5,
             "#f7f7f7"
            ],
            [
             0.6,
             "#e6f5d0"
            ],
            [
             0.7,
             "#b8e186"
            ],
            [
             0.8,
             "#7fbc41"
            ],
            [
             0.9,
             "#4d9221"
            ],
            [
             1,
             "#276419"
            ]
           ],
           "sequential": [
            [
             0,
             "#0d0887"
            ],
            [
             0.1111111111111111,
             "#46039f"
            ],
            [
             0.2222222222222222,
             "#7201a8"
            ],
            [
             0.3333333333333333,
             "#9c179e"
            ],
            [
             0.4444444444444444,
             "#bd3786"
            ],
            [
             0.5555555555555556,
             "#d8576b"
            ],
            [
             0.6666666666666666,
             "#ed7953"
            ],
            [
             0.7777777777777778,
             "#fb9f3a"
            ],
            [
             0.8888888888888888,
             "#fdca26"
            ],
            [
             1,
             "#f0f921"
            ]
           ],
           "sequentialminus": [
            [
             0,
             "#0d0887"
            ],
            [
             0.1111111111111111,
             "#46039f"
            ],
            [
             0.2222222222222222,
             "#7201a8"
            ],
            [
             0.3333333333333333,
             "#9c179e"
            ],
            [
             0.4444444444444444,
             "#bd3786"
            ],
            [
             0.5555555555555556,
             "#d8576b"
            ],
            [
             0.6666666666666666,
             "#ed7953"
            ],
            [
             0.7777777777777778,
             "#fb9f3a"
            ],
            [
             0.8888888888888888,
             "#fdca26"
            ],
            [
             1,
             "#f0f921"
            ]
           ]
          },
          "colorway": [
           "#636efa",
           "#EF553B",
           "#00cc96",
           "#ab63fa",
           "#FFA15A",
           "#19d3f3",
           "#FF6692",
           "#B6E880",
           "#FF97FF",
           "#FECB52"
          ],
          "font": {
           "color": "#2a3f5f"
          },
          "geo": {
           "bgcolor": "white",
           "lakecolor": "white",
           "landcolor": "#E5ECF6",
           "showlakes": true,
           "showland": true,
           "subunitcolor": "white"
          },
          "hoverlabel": {
           "align": "left"
          },
          "hovermode": "closest",
          "mapbox": {
           "style": "light"
          },
          "paper_bgcolor": "white",
          "plot_bgcolor": "#E5ECF6",
          "polar": {
           "angularaxis": {
            "gridcolor": "white",
            "linecolor": "white",
            "ticks": ""
           },
           "bgcolor": "#E5ECF6",
           "radialaxis": {
            "gridcolor": "white",
            "linecolor": "white",
            "ticks": ""
           }
          },
          "scene": {
           "xaxis": {
            "backgroundcolor": "#E5ECF6",
            "gridcolor": "white",
            "gridwidth": 2,
            "linecolor": "white",
            "showbackground": true,
            "ticks": "",
            "zerolinecolor": "white"
           },
           "yaxis": {
            "backgroundcolor": "#E5ECF6",
            "gridcolor": "white",
            "gridwidth": 2,
            "linecolor": "white",
            "showbackground": true,
            "ticks": "",
            "zerolinecolor": "white"
           },
           "zaxis": {
            "backgroundcolor": "#E5ECF6",
            "gridcolor": "white",
            "gridwidth": 2,
            "linecolor": "white",
            "showbackground": true,
            "ticks": "",
            "zerolinecolor": "white"
           }
          },
          "shapedefaults": {
           "line": {
            "color": "#2a3f5f"
           }
          },
          "ternary": {
           "aaxis": {
            "gridcolor": "white",
            "linecolor": "white",
            "ticks": ""
           },
           "baxis": {
            "gridcolor": "white",
            "linecolor": "white",
            "ticks": ""
           },
           "bgcolor": "#E5ECF6",
           "caxis": {
            "gridcolor": "white",
            "linecolor": "white",
            "ticks": ""
           }
          },
          "title": {
           "x": 0.05
          },
          "xaxis": {
           "automargin": true,
           "gridcolor": "white",
           "linecolor": "white",
           "ticks": "",
           "title": {
            "standoff": 15
           },
           "zerolinecolor": "white",
           "zerolinewidth": 2
          },
          "yaxis": {
           "automargin": true,
           "gridcolor": "white",
           "linecolor": "white",
           "ticks": "",
           "title": {
            "standoff": 15
           },
           "zerolinecolor": "white",
           "zerolinewidth": 2
          }
         }
        },
        "title": {
         "text": "Candlestick Chart with Buy and Sell Signals"
        },
        "xaxis": {
         "anchor": "y",
         "domain": [
          0,
          1
         ],
         "rangeslider": {
          "visible": true
         },
         "title": {
          "text": "Datetime"
         }
        },
        "xaxis2": {
         "anchor": "y2",
         "domain": [
          0,
          1
         ],
         "rangeslider": {
          "visible": true
         },
         "title": {
          "text": "Datetime"
         }
        },
        "yaxis": {
         "anchor": "x",
         "domain": [
          0.5449999999999999,
          0.9999999999999999
         ],
         "title": {
          "text": "Price"
         }
        },
        "yaxis2": {
         "anchor": "x2",
         "domain": [
          0,
          0.195
         ],
         "title": {
          "text": "Equity Curve (%)"
         }
        }
       }
      }
     },
     "metadata": {},
     "output_type": "display_data"
    }
   ],
   "source": [
    "import plotly.graph_objects as go\n",
    "from plotly.subplots import make_subplots\n",
    "from LocalRecord import calculate_equity_curve\n",
    "\n",
    "records_df = pd.DataFrame(bt.trading_records)\n",
    "equity_curve = calculate_equity_curve(records_df, df['Close'].pct_change())\n",
    "\n",
    "# Create figure\n",
    "fig = make_subplots(rows=2, cols=1, vertical_spacing=0.35, row_heights=[0.7, 0.3])\n",
    "\n",
    "# Add candlestick chart\n",
    "fig.add_trace(go.Candlestick(\n",
    "    x=df.index,\n",
    "    open=df[\"Open\"],\n",
    "    high=df[\"High\"],\n",
    "    low=df[\"Low\"],\n",
    "    close=df[\"Close\"],\n",
    "    name=\"Candlestick\"\n",
    "), row=1, col=1)\n",
    "\n",
    "# Add buy signals (green arrows)\n",
    "fig.add_trace(go.Scatter(\n",
    "    x=records_df[\"entry_timestamp\"],\n",
    "    y=records_df[\"entry_price\"] * 0.9,\n",
    "    mode=\"markers\",\n",
    "    marker=dict(symbol=\"triangle-up\", color=\"green\", size=10),\n",
    "    name=\"Buy Signal\"\n",
    "), row=1, col=1)\n",
    "\n",
    "# Add sell signals (red arrows)\n",
    "fig.add_trace(go.Scatter(\n",
    "    x=records_df[\"exit_timestamp\"],\n",
    "    y=records_df[\"exit_price\"] * 1.1,\n",
    "    mode=\"markers\",\n",
    "    marker=dict(symbol=\"triangle-down\", color=\"red\", size=10),\n",
    "    name=\"Sell Signal\"\n",
    "), row=1, col=1)\n",
    "\n",
    "# Add cumulative returns line chart\n",
    "fig.add_trace(go.Scatter(\n",
    "    x=df.index,\n",
    "    y=df['Close'].pct_change().cumsum(),\n",
    "    mode='lines',\n",
    "    name='Equity Curve (%)',\n",
    "    line=dict(color='blue')\n",
    "), row=2, col=1)\n",
    "\n",
    "# Add cumulative returns line chart\n",
    "fig.add_trace(go.Scatter(\n",
    "    x=df.index,\n",
    "    y=equity_curve,\n",
    "    mode='lines',\n",
    "    name='Equity Curve (%)',\n",
    "    line=dict(color='orange')\n",
    "), row=2, col=1)\n",
    "\n",
    "# Update layout\n",
    "fig.update_layout(\n",
    "    title=\"Candlestick Chart with Buy and Sell Signals\",\n",
    "    xaxis_title=\"Datetime\",\n",
    "    yaxis_title=\"Price\",\n",
    "    xaxis_rangeslider_visible=True,\n",
    "    xaxis2_title=\"Datetime\",\n",
    "    yaxis2_title=\"Equity Curve (%)\",\n",
    "    xaxis2_rangeslider_visible=True,\n",
    "    height=800\n",
    ")\n",
    "\n",
    "# Show figure\n",
    "fig.show()"
   ]
  },
  {
   "cell_type": "code",
   "execution_count": 6,
   "metadata": {},
   "outputs": [
    {
     "name": "stdout",
     "output_type": "stream",
     "text": [
      "+----------------------------+----------+\n",
      "| Parameters                 | Values   |\n",
      "|----------------------------+----------|\n",
      "| Total Trade                | 17       |\n",
      "| Cumulative Return          | 21.88    |\n",
      "| Winners                    | 9        |\n",
      "| Losers                     | 8        |\n",
      "| % Win Ratio                | 52.94    |\n",
      "| % Average Profit per Trade | 6.0      |\n",
      "| % Average Loss per Trade   | -4.0     |\n",
      "| % Average PNL per Trade    | 1.29     |\n",
      "| Risk Reward                | 1:1.5    |\n",
      "+----------------------------+----------+\n"
     ]
    }
   ],
   "source": [
    "from tabulate import tabulate\n",
    "\n",
    "total_trade = records_df.shape[0]\n",
    "winners = (records_df['percentage_change'] > 0).sum()\n",
    "losers = (records_df['percentage_change'] <= 0).sum()\n",
    "win_ratio = round(winners/total_trade * 100, 2) if total_trade else 0\n",
    "pnl = (records_df['percentage_change'] + 100) / 100\n",
    "cumulative_return = round(pnl.prod() * 100 - 100, 2)\n",
    "total_profit = records_df[records_df['percentage_change'] > 0]['percentage_change'].sum()\n",
    "total_loss = records_df[records_df['percentage_change'] <= 0]['percentage_change'].sum()\n",
    "avg_profit_per_trade = round(total_profit/winners, 2) if winners else 0\n",
    "avg_loss_per_trade = round(total_loss/losers, 2) if losers else 0\n",
    "avg_pnl_per_trade = round(cumulative_return/total_trade, 2) if total_trade else 0\n",
    "risk_reward = f\"1:{round(abs(avg_profit_per_trade/avg_loss_per_trade), 2)}\" if avg_loss_per_trade else \"N/A\"\n",
    "\n",
    "data = [\n",
    "            ('Total Trade', total_trade),\n",
    "            ('Cumulative Return', cumulative_return),\n",
    "            ('Winners', winners),\n",
    "            ('Losers', losers),\n",
    "            ('% Win Ratio', win_ratio),\n",
    "            ('% Average Profit per Trade', avg_profit_per_trade),\n",
    "            ('% Average Loss per Trade', avg_loss_per_trade),\n",
    "            ('% Average PNL per Trade', avg_pnl_per_trade),\n",
    "            ('Risk Reward', risk_reward)\n",
    "        ]\n",
    "\n",
    "print(tabulate(data, headers=['Parameters', 'Values'], tablefmt='psql'))"
   ]
  }
 ],
 "metadata": {
  "kernelspec": {
   "display_name": "Python 3",
   "language": "python",
   "name": "python3"
  },
  "language_info": {
   "codemirror_mode": {
    "name": "ipython",
    "version": 3
   },
   "file_extension": ".py",
   "mimetype": "text/x-python",
   "name": "python",
   "nbconvert_exporter": "python",
   "pygments_lexer": "ipython3",
   "version": "3.10.4"
  }
 },
 "nbformat": 4,
 "nbformat_minor": 2
}
